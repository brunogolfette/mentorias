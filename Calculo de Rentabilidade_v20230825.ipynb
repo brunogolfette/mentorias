{
 "cells": [
  {
   "cell_type": "markdown",
   "id": "84e59394",
   "metadata": {
    "id": "84e59394"
   },
   "source": [
    "<!-- !conda install -c conda-forge numpy-financial -y -->"
   ]
  },
  {
   "cell_type": "code",
   "execution_count": 221,
   "id": "247588fe",
   "metadata": {
    "colab": {
     "base_uri": "https://localhost:8080/"
    },
    "executionInfo": {
     "elapsed": 1220,
     "status": "ok",
     "timestamp": 1692887831499,
     "user": {
      "displayName": "Ricardo Ruiz",
      "userId": "06319979429578686297"
     },
     "user_tz": -60
    },
    "id": "247588fe",
    "outputId": "e3aff0f8-cd8d-445b-d4b3-c5def9ad661c"
   },
   "outputs": [
    {
     "name": "stdout",
     "output_type": "stream",
     "text": [
      "Rentabilidade acumulada: 36.47%\n"
     ]
    }
   ],
   "source": [
    "import datetime\n",
    "import yfinance as yf\n",
    "\n",
    "# Lista para armazenar os trades\n",
    "trades = []\n",
    "\n",
    "# Função para registrar um trade\n",
    "def registrar_trade(data, tipo, quantidade, preco):\n",
    "    trade = {\n",
    "        'data': data,\n",
    "        'tipo': tipo,\n",
    "        'quantidade': quantidade,\n",
    "        'preco': preco\n",
    "    }\n",
    "    trades.append(trade)\n",
    "\n",
    "# Função para obter o preço atual da ação\n",
    "def obter_preco_atual(ticker):\n",
    "    acao = yf.Ticker(ticker)\n",
    "    preco_atual = acao.history(period=\"1d\")['Close'][0]\n",
    "    return preco_atual\n",
    "\n",
    "# Função para calcular a rentabilidade\n",
    "def calcular_rentabilidade(ticker):\n",
    "#     Esta função calcula a rentabilidade em termos percentuais.\n",
    "    investido = 0\n",
    "    quantidade_acoes = 0\n",
    "\n",
    "    for trade in trades:\n",
    "        if trade['tipo'] == 'compra':\n",
    "            investido += trade['quantidade'] * trade['preco']\n",
    "            quantidade_acoes += trade['quantidade']\n",
    "        else:\n",
    "            investido -= trade['quantidade'] * trade['preco']\n",
    "            quantidade_acoes -= trade['quantidade']\n",
    "\n",
    "    preco_atual = obter_preco_atual(ticker)\n",
    "    valor_atual = quantidade_acoes * preco_atual\n",
    "\n",
    "    rentabilidade = ((valor_atual - investido) / investido) * 100\n",
    "    return rentabilidade\n",
    "\n",
    "# Adicionando trades de exemplo\n",
    "registrar_trade(datetime.date(2020, 8, 25), 'compra', 10, 122.6)\n",
    "registrar_trade(datetime.date(2021, 8, 4), 'venda', 5, 145.05)\n",
    "registrar_trade(datetime.date(2021, 8, 25), 'compra', 15, 146.66)\n",
    "registrar_trade(datetime.date(2022, 11, 21), 'venda', 5, 147.38)\n",
    "\n",
    "# Calculando a rentabilidade acumulada para a APPLE\n",
    "rentabilidade = calcular_rentabilidade(\"AAPL\")\n",
    "print(f\"Rentabilidade acumulada: {rentabilidade:.2f}%\")\n"
   ]
  },
  {
   "cell_type": "code",
   "execution_count": null,
   "id": "9d48d67e",
   "metadata": {},
   "outputs": [],
   "source": []
  },
  {
   "cell_type": "code",
   "execution_count": 222,
   "id": "fcc6b6b2",
   "metadata": {},
   "outputs": [
    {
     "data": {
      "text/plain": [
       "178.6699981689453"
      ]
     },
     "execution_count": 222,
     "metadata": {},
     "output_type": "execute_result"
    }
   ],
   "source": [
    "obter_preco_atual(\"AAPL\")"
   ]
  },
  {
   "cell_type": "markdown",
   "id": "dd805d6f",
   "metadata": {},
   "source": [
    "https://numpy.org/numpy-financial/"
   ]
  },
  {
   "cell_type": "code",
   "execution_count": 223,
   "id": "239b17a5",
   "metadata": {
    "id": "94580757"
   },
   "outputs": [],
   "source": [
    "import yfinance as yf\n",
    "import numpy_financial as npf\n",
    "import datetime\n",
    "\n",
    "# Lista para armazenar os trades e fluxos de caixa\n",
    "ticker = 'AAPL'\n",
    "trades = []\n",
    "fluxo_caixa = []\n",
    "\n",
    "# Função para obter o preço na data\n",
    "def obter_preco_na_data(ticker, data):\n",
    "    acao = yf.Ticker(ticker)\n",
    "    # Busca dados para um intervalo de 7 dias em torno da data desejada\n",
    "    inicio = (datetime.datetime.strptime(data, '%Y-%m-%d') - datetime.timedelta(days=3)).strftime('%Y-%m-%d')\n",
    "    fim = (datetime.datetime.strptime(data, '%Y-%m-%d') + datetime.timedelta(days=3)).strftime('%Y-%m-%d')\n",
    "    historico = acao.history(start=inicio, end=fim)\n",
    "    \n",
    "    # Verifica se a data desejada está nos dados retornados\n",
    "    if data in historico.index:\n",
    "        return historico.loc[data]['Close']\n",
    "    else:\n",
    "        return None\n",
    "\n",
    "# Função para registrar um trade\n",
    "def registrar_trade(ticker, data, tipo, quantidade, preco=None):\n",
    "    if preco is None:\n",
    "        preco = obter_preco_na_data(ticker, data)\n",
    "        if preco is None:\n",
    "            print(f\"Não foi possível obter o preço para {ticker} na data {data}.\")\n",
    "            return\n",
    "    \n",
    "    if tipo == 'compra':\n",
    "        fluxo = -quantidade * preco\n",
    "    else:\n",
    "        fluxo = quantidade * preco\n",
    "    fluxo_caixa.append(fluxo)\n",
    "    \n",
    "    trade = {\n",
    "        'ticker': ticker,\n",
    "        'data': data,\n",
    "        'tipo': tipo,\n",
    "        'quantidade': quantidade,\n",
    "        'preco': preco\n",
    "    }\n",
    "    trades.append(trade)"
   ]
  },
  {
   "attachments": {
    "image.png": {
     "image/png": "[encoded data removed]"
    }
   },
   "cell_type": "markdown",
   "id": "2b07c5c9",
   "metadata": {},
   "source": [
    "![image.png](attachment:image.png)"
   ]
  },
  {
   "cell_type": "code",
   "execution_count": 224,
   "id": "94580757",
   "metadata": {
    "id": "94580757"
   },
   "outputs": [
    {
     "name": "stdout",
     "output_type": "stream",
     "text": [
      "TIR: 5.38%\n",
      "TIR alternativo: 5.38%\n",
      "Rentabilidade ITD(Inception to Date): 45.72%\n",
      "Rendimento : -1226.09\n"
     ]
    }
   ],
   "source": [
    "# Função para calcular a TIR\n",
    "def calcular_TIR():\n",
    "    return npf.irr(fluxo_caixa) * 100\n",
    "\n",
    "from scipy.optimize import fsolve\n",
    "import warnings\n",
    "\n",
    "def calcular_TIR_alternativo():\n",
    "    # Função para calcular o VPL para uma taxa dada\n",
    "    def vpl(taxa):\n",
    "        return sum([fc / (1 + taxa)**i for i, fc in enumerate(fluxo_caixa)])\n",
    "    valores_iniciais = [i/100 for i in range(-100, 101)]\n",
    "    # Usa fsolve para encontrar a taxa que faz o VPL ser zero\n",
    "    # Suprimir avisos durante o cálculo\n",
    "    with warnings.catch_warnings():\n",
    "        warnings.simplefilter(\"ignore\")\n",
    "        for valor_inicial in valores_iniciais:\n",
    "            tir = fsolve(vpl, valor_inicial)[0]\n",
    "            # Verifica se a solução encontrada é válida\n",
    "            if abs(vpl(tir)) < 1e-5:\n",
    "                return tir * 100\n",
    "\n",
    "\n",
    "# Função para calcular rentabilidade ITD(Inception to Date)\n",
    "def calcular_rentabilidade_ITD(ticker):\n",
    "    preco_inicial = trades[0]['preco']\n",
    "    preco_atual = obter_preco_na_data(ticker, datetime.date.today().strftime('%Y-%m-%d'))\n",
    "    return ((preco_atual - preco_inicial) / preco_inicial) * 100\n",
    "\n",
    "\n",
    "def calcular_rendimento(ticker): \n",
    "    #Esta função calcula o rendimento em termos absolutos (em reais ou na moeda que você estiver usando).\n",
    "    # Valor Inicial\n",
    "    valor_inicial = trades[0]['quantidade'] * trades[0]['preco']\n",
    "    \n",
    "    # Número total de ações após todos os trades\n",
    "    total_acoes = sum([trade['quantidade'] if trade['tipo'] == 'compra' else -trade['quantidade'] for trade in trades])    \n",
    "    #list comprehention\n",
    "    \n",
    "    # Valor Atual\n",
    "    preco_atual = obter_preco_na_data(ticker, datetime.date.today().strftime('%Y-%m-%d'))\n",
    "    valor_atual = total_acoes * preco_atual\n",
    "    \n",
    "    # Rendimento\n",
    "    rendimento = valor_atual - valor_inicial\n",
    "    \n",
    "    return rendimento\n",
    "\n",
    "# Registra trades fictícios ao longo dos últimos 2 anos\n",
    "# data_inicial = (datetime.date.today() - datetime.timedelta(days=2*365)).strftime('%Y-%m-%d')\n",
    "\n",
    "registrar_trade(\"AAPL\", '2021-08-25', 'compra', 15)\n",
    "registrar_trade(\"AAPL\", \"2021-08-04\", 'venda', 5)\n",
    "registrar_trade(\"AAPL\", \"2020-08-25\", 'compra', 10)\n",
    "registrar_trade(\"AAPL\", \"2022-11-21\", 'venda', 20)\n",
    "\n",
    "trades = sorted(trades, key=lambda x: x['data'])\n",
    "fluxo_caixa = [-trade['preco'] * trade['quantidade'] if trade['tipo'] == 'compra' else trade['preco'] * trade['quantidade'] for trade in trades]\n",
    "\n",
    "# Calcula a TIR e rentabilidade ITD\n",
    "tir = calcular_TIR()\n",
    "print(f\"TIR: {tir:.2f}%\")\n",
    "tir = calcular_TIR_alternativo()\n",
    "print(f\"TIR alternativo: {tir:.2f}%\")\n",
    "rentabilidade_itd = calcular_rentabilidade_ITD(\"AAPL\")\n",
    "print(f\"Rentabilidade ITD(Inception to Date): {rentabilidade_itd:.2f}%\")\n",
    "rendimento = calcular_rendimento(ticker)\n",
    "print(f\"Rendimento : {rendimento:.2f}\")"
   ]
  },
  {
   "cell_type": "code",
   "execution_count": null,
   "id": "b96ae3c3",
   "metadata": {},
   "outputs": [],
   "source": []
  },
  {
   "cell_type": "markdown",
   "id": "7a292ed2",
   "metadata": {},
   "source": [
    "##### Fluxo de Caixa:\n",
    "\n",
    "- Compra de 15 ações em 2020-08-20 por -1742.63.\n",
    "- Venda de 5 ações em 2021-08-04 por 725.26.\n",
    "- Compra de 10 ações em 2021-08-25 por -1466.63.\n",
    "- Venda de 5 ações em 2022-11-21 por 736.91.\n",
    "\n",
    "outra maneira de ver:\n",
    "- 2020-08-20: Você comprou 15 ações da AAPL a um preço de 116.17 por ação. Portanto, você gastou 15 * 116.17 = 1742.62. Isso é um fluxo de caixa negativo, pois é uma saída de dinheiro.\n",
    "- 2021-08-04: Você vendeu 5 ações da AAPL a um preço de 145.05 por ação. Portanto, você recebeu 5 * 145.05 = 725.26. Isso é um fluxo de caixa positivo, pois é uma entrada de dinheiro.\n",
    "- 2021-08-25: Você comprou 10 ações da AAPL a um preço de 146.66 por ação. Portanto, você gastou 10 * 146.66 = 1466.63. Isso é um fluxo de caixa negativo.\n",
    "- 2022-11-21: Você vendeu 5 ações da AAPL a um preço de 147.38 por ação. Portanto, você recebeu 5 * 147.38 = 736.90. Isso é um fluxo de caixa positivo.\n",
    "\n",
    "##### Resultados:\n",
    "\n",
    "TIR: -64.85%\n",
    "\n",
    "Rentabilidade ITD (Inception to Date): 44.55%\n",
    "\n",
    "Interpretação:\n",
    "\n",
    "Rentabilidade ITD (Inception to Date):\n",
    "\n",
    "A rentabilidade ITD de 44.55% indica que, desde a primeira transação até a data atual, o valor das ações da Apple aumentou 44.55%. Isso é uma medida absoluta de quanto o valor das ações aumentou desde a primeira compra.\n",
    "\n",
    "##### Taxa Interna de Retorno (TIR):\n",
    "A TIR é uma métrica que representa a taxa de retorno anual composta que torna o Valor Presente Líquido (VPL) de um fluxo de caixa igual a zero.Ou seja a TIR é uma métrica financeira que indica a rentabilidade anual de um investimento. Ela mostra qual seria a taxa de juros que faria com que o valor total investido e o valor total recebido ao longo do tempo se equilibrassem, ou seja, que o lucro ou prejuízo fosse zero. Se você tivesse outros lugares para investir seu dinheiro, a TIR seria a taxa que você usaria para comparar a atratividade desses investimentos.\n",
    "\n",
    "**Quando a TIR é negativa**, como -64.85%, significa que, se você olhar ano a ano, em média, **o valor do seu investimento caiu 64.85%** em relação ao que você inicialmente colocou. Isso **não significa que você perdeu mais da metade do seu dinheiro**, mas que, em média anualmente, **o retorno foi negativo nessa taxa.**\n",
    "\n",
    "##### Como isso é possível?\n",
    "A TIR é altamente sensível ao momento e à magnitude dos fluxos de caixa. Se você tiver grandes saídas de caixa (compras) seguidas por pequenas entradas de caixa (vendas) e depois grandes entradas de caixa (vendas) no final, a TIR pode ser negativa mesmo que a rentabilidade geral seja positiva.\n",
    "\n",
    "No nosso caso, tivemos duas grandes compras seguidas por vendas menores. Mesmo que o valor das ações tenha aumentado ao longo do tempo (como indicado pela rentabilidade ITD positiva), o fato de termos comprado mais ações (grandes saídas de caixa) antes de vender (entradas de caixa) afetou negativamente a TIR.\n",
    "\n",
    "Em resumo, enquanto a rentabilidade ITD fornece uma visão geral de quanto o valor das ações aumentou desde a primeira compra, a TIR fornece uma visão mais detalhada de como o investimento se saiu ao longo do tempo, levando em consideração o momento e a magnitude dos fluxos de caixa.\n",
    "\n",
    "\n",
    "A avaliação de um investimento com base na TIR e na rentabilidade ITD pode ser um pouco complexa, especialmente quando os dois indicadores parecem contar histórias diferentes. Vamos analisar:\n",
    "\n",
    "Rentabilidade ITD Positiva: Se a rentabilidade desde o início (ITD) é positiva, isso indica que, no geral, você ganhou dinheiro com o investimento. O valor total do seu investimento cresceu desde que você começou a investir.\n",
    "\n",
    "TIR Negativa: Uma TIR negativa sugere que, em média anualmente, o retorno foi negativo na taxa indicada. Isso pode ser devido a várias razões, como grandes saídas de dinheiro (compras de ações) em momentos inoportunos ou vendas em momentos de baixa. A TIR leva em consideração o momento e a magnitude dos fluxos de caixa, o que significa que o timing das suas transações teve um impacto significativo no retorno anualizado.\n",
    "\n",
    "##### Avaliação:\n",
    "\n",
    "Se você ganhou dinheiro no final (como indicado pela rentabilidade ITD positiva), isso é, obviamente, um resultado favorável. No entanto, a TIR negativa sugere que o caminho para esse ganho pode ter sido volátil ou mal cronometrado.\n",
    "\n",
    "A TIR negativa indica que, se você tivesse outras opções de investimento que oferecessem uma TIR positiva, teria sido mais vantajoso investir nelas, pois teriam proporcionado um melhor retorno anualizado pelo dinheiro.\n",
    "\n",
    "A atratividade do investimento depende não apenas dos retornos, mas também de outros fatores como risco, liquidez, horizonte de investimento e objetivos pessoais. Se o investimento em questão era de alto risco, uma TIR negativa pode ser uma consequência aceitável desse risco.\n",
    "\n",
    "##### Conclusão:\n",
    "Embora você tenha ganhado dinheiro, o investimento pode não ter sido o mais eficiente em termos de retorno anualizado. Vale a pena refletir sobre o timing das suas transações e considerar se houve oportunidades alternativas que poderiam ter oferecido melhores retornos ao longo do tempo. No entanto, o mais importante é que você teve um ganho líquido, e aprender com as experiências passadas pode ajudar a tomar decisões de investimento mais informadas no futuro."
   ]
  },
  {
   "cell_type": "code",
   "execution_count": 225,
   "id": "4c936c55",
   "metadata": {},
   "outputs": [
    {
     "data": {
      "text/plain": [
       "[-1226.0877990722656,\n",
       " 725.2603149414062,\n",
       " -2199.9483489990234,\n",
       " 2947.6239013671875]"
      ]
     },
     "execution_count": 225,
     "metadata": {},
     "output_type": "execute_result"
    }
   ],
   "source": [
    "fluxo_caixa"
   ]
  },
  {
   "cell_type": "code",
   "execution_count": null,
   "id": "28628b82",
   "metadata": {},
   "outputs": [],
   "source": []
  },
  {
   "cell_type": "code",
   "execution_count": 226,
   "id": "c1a44757",
   "metadata": {},
   "outputs": [
    {
     "data": {
      "text/plain": [
       "[{'ticker': 'AAPL',\n",
       "  'data': '2020-08-25',\n",
       "  'tipo': 'compra',\n",
       "  'quantidade': 10,\n",
       "  'preco': 122.60877990722656},\n",
       " {'ticker': 'AAPL',\n",
       "  'data': '2021-08-04',\n",
       "  'tipo': 'venda',\n",
       "  'quantidade': 5,\n",
       "  'preco': 145.05206298828125},\n",
       " {'ticker': 'AAPL',\n",
       "  'data': '2021-08-25',\n",
       "  'tipo': 'compra',\n",
       "  'quantidade': 15,\n",
       "  'preco': 146.66322326660156},\n",
       " {'ticker': 'AAPL',\n",
       "  'data': '2022-11-21',\n",
       "  'tipo': 'venda',\n",
       "  'quantidade': 20,\n",
       "  'preco': 147.38119506835938}]"
      ]
     },
     "execution_count": 226,
     "metadata": {},
     "output_type": "execute_result"
    }
   ],
   "source": [
    "trades"
   ]
  },
  {
   "cell_type": "code",
   "execution_count": 227,
   "id": "a1bb3e4f",
   "metadata": {},
   "outputs": [
    {
     "data": {
      "image/png": "[encoded data removed]",
      "text/plain": [
       "<Figure size 1008x432 with 2 Axes>"
      ]
     },
     "metadata": {
      "needs_background": "dark"
     },
     "output_type": "display_data"
    }
   ],
   "source": [
    "import matplotlib.pyplot as plt\n",
    "import yfinance as yf\n",
    "import datetime\n",
    "\n",
    "def visualizar_dados(ticker):\n",
    "    # Obter dados históricos do ticker\n",
    "    acao = yf.Ticker(ticker)\n",
    "    historico = acao.history(start=trades[0]['data'], end=datetime.date.today().strftime('%Y-%m-%d'))\n",
    "    \n",
    "    # Listas para armazenar dados para o gráfico\n",
    "    datas = []\n",
    "    montantes = []\n",
    "    montante_atual = 0\n",
    "    \n",
    "    # Calcular montante para cada trade\n",
    "    for trade in trades:\n",
    "        if trade['tipo'] == 'compra':\n",
    "            montante_atual -= trade['quantidade'] * trade['preco']\n",
    "        else:\n",
    "            montante_atual += trade['quantidade'] * trade['preco']\n",
    "        datas.append(trade['data'])\n",
    "        montantes.append(montante_atual)\n",
    "    \n",
    "    # Configurações de cor\n",
    "    cor_texto = 'white'\n",
    "    \n",
    "    # Gráfico de linha para preços\n",
    "    plt.figure(figsize=(14, 6))\n",
    "    plt.subplot(1, 2, 1)\n",
    "    plt.plot(historico.index, historico['Close'], label='Preço de Fechamento', color='blue')\n",
    "    \n",
    "    # Adicionar linhas pontilhadas para trades\n",
    "    for trade in trades:\n",
    "        data_trade = datetime.datetime.strptime(trade['data'], '%Y-%m-%d')  # Convertendo para datetime\n",
    "        if trade['tipo'] == 'compra':\n",
    "            plt.axvline(x=data_trade, color='green', linestyle='--', label='Compra')\n",
    "        else:\n",
    "            plt.axvline(x=data_trade, color='red', linestyle='--', label='Venda')\n",
    "    \n",
    "    plt.title('Evolução dos Preços de ' + ticker, color=cor_texto)\n",
    "    plt.xlabel('Data', color=cor_texto)\n",
    "    plt.ylabel('Preço', color=cor_texto)\n",
    "    plt.grid(True)\n",
    "    plt.legend()\n",
    "    plt.tick_params(colors=cor_texto, rotation = 45)\n",
    "    \n",
    "    # Gráfico de barra para montantes\n",
    "    plt.subplot(1, 2, 2)\n",
    "    plt.bar(datas, montantes, color=['green' if m > 0 else 'red' for m in montantes])\n",
    "    plt.title('Montante em Reais ao Longo do Tempo', color=cor_texto)\n",
    "    plt.xlabel('Data', color=cor_texto)\n",
    "    plt.ylabel('Montante (R$)', color=cor_texto)\n",
    "    plt.grid(True, which='both', linestyle='--', linewidth=0.5)\n",
    "    plt.tick_params(colors=cor_texto, rotation = 45)\n",
    "    \n",
    "    # Mostrar gráficos\n",
    "    plt.tight_layout()\n",
    "    plt.show()\n",
    "\n",
    "# Chamar a função de visualização\n",
    "visualizar_dados(\"AAPL\")\n"
   ]
  },
  {
   "cell_type": "code",
   "execution_count": 228,
   "id": "2ce8a47b",
   "metadata": {},
   "outputs": [
    {
     "name": "stdout",
     "output_type": "stream",
     "text": [
      "Rendimento total: R$ 246.85\n"
     ]
    }
   ],
   "source": [
    "def calcular_rendimento_total(ticker):\n",
    "    # Valor total gasto na compra\n",
    "    total_compra = sum([trade['quantidade'] * trade['preco'] for trade in trades if trade['tipo'] == 'compra'])\n",
    "    \n",
    "    # Valor total recebido nas vendas\n",
    "    total_venda = sum([trade['quantidade'] * trade['preco'] for trade in trades if trade['tipo'] == 'venda'])\n",
    "    \n",
    "    # Número total de ações após todos os trades\n",
    "    total_acoes = sum([trade['quantidade'] if trade['tipo'] == 'compra' else -trade['quantidade'] for trade in trades])\n",
    "    \n",
    "    # Valor atual das ações que você ainda possui\n",
    "    preco_atual = obter_preco_na_data(ticker, datetime.date.today().strftime('%Y-%m-%d'))\n",
    "    valor_atual = total_acoes * preco_atual\n",
    "    \n",
    "    # Rendimento total\n",
    "    rendimento_total = (total_venda + valor_atual) - total_compra\n",
    "    \n",
    "    return rendimento_total\n",
    "\n",
    "# Chamar a função e imprimir o rendimento total\n",
    "rendimento_total = calcular_rendimento_total(\"AAPL\")\n",
    "print(f\"Rendimento total: R$ {rendimento_total:.2f}\")\n"
   ]
  },
  {
   "cell_type": "markdown",
   "id": "03c1c277",
   "metadata": {},
   "source": [
    "###### Trades:\n",
    "\n",
    "- Compra de 10 ações por 122.61 cada = -1226.09\n",
    "- Venda de 5 ações por 145.05 cada = +725.26\n",
    "- Compra de 15 ações por 146.66 cada = -2199.95\n",
    "- Venda de 5 ações por 147.38 cada = +736.90\n",
    "\n",
    "### Cálculos:\n",
    "\n",
    "###### Rendimento (calcular_rentabilidade):\n",
    "\n",
    "Cálculos usando a função calcular_rentabilidade:\n",
    "\n",
    "Investido após cada trade:\n",
    "\n",
    "- Compra: 1226.10\n",
    "- Venda: 1226.10 - 725.26 = 500.84\n",
    "- Compra: 500.84 + 2199.95 = 2700.79\n",
    "- Venda: 2700.79 - 736.91 = 1963.88\n",
    "\n",
    "Valor atual das ações que você ainda possui:\n",
    "\n",
    "Quantidade de ações após todos os trades: 10 - 5 + 15 - 5 = 15\n",
    "Valor atual: 15 * 177.23 = 2658.45\n",
    "Rentabilidade acumulada:\n",
    "**Rentabilidade = ((2658.45 - 1963.88) / 1963.88) * 100 = 35.35%**\n",
    "\n",
    "######  Rendimento (calcular_rendimento):\n",
    "- Valor inicial: 10 * 122.61 = -1226.10\n",
    "- Valor atual: (10 - 5 + 15 - 5) * 177.59 = 15 * 177.59 = 2663.85\n",
    "\n",
    "**Rendimento = 2663.85 - 1226.10 = 1437.75**\n",
    "\n",
    "######  Rendimento total (calcular_rendimento_total):\n",
    "- Total gasto na compra: 1226.10 + 2199.95 = 3426.05\n",
    "- Total recebido nas vendas: 725.26 + 736.91 = 1462.17\n",
    "\n",
    "Valor atual das ações que você ainda possui: 15 * 177.59 = 2663.85\n",
    "\n",
    "**Rendimento total = (1462.17 + 2663.85) - 3426.05 = 699.97**\n",
    "\n",
    "\n"
   ]
  }
 ],
 "metadata": {
  "colab": {
   "provenance": []
  },
  "kernelspec": {
   "display_name": "Python (aulas)",
   "language": "python",
   "name": "aulas"
  },
  "language_info": {
   "codemirror_mode": {
    "name": "ipython",
    "version": 3
   },
   "file_extension": ".py",
   "mimetype": "text/x-python",
   "name": "python",
   "nbconvert_exporter": "python",
   "pygments_lexer": "ipython3",
   "version": "3.9.12"
  }
 },
 "nbformat": 4,
 "nbformat_minor": 5
}
